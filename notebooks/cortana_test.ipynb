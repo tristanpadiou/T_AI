{
 "cells": [
  {
   "cell_type": "code",
   "execution_count": 3,
   "metadata": {},
   "outputs": [],
   "source": [
    "\n",
    "from pydantic_ai import Agent, RunContext\n",
    "from pydantic_ai.common_tools.tavily import tavily_search_tool\n",
    "from pydantic_ai.messages import ModelMessage\n",
    "from pydantic_ai.models.google import GoogleModel\n",
    "from pydantic_ai.providers.google import GoogleProvider\n",
    "from pydantic_ai.models.openai import OpenAIModel\n",
    "from pydantic_ai.providers.openai import OpenAIProvider\n",
    "from dotenv import load_dotenv\n",
    "from dataclasses import dataclass\n",
    "from datetime import datetime\n",
    "from pydantic import Field\n",
    "\n",
    "\n",
    "import nest_asyncio\n",
    "nest_asyncio.apply()\n",
    "\n",
    "\n",
    "import os\n",
    "from tavily import TavilyClient\n",
    "load_dotenv()\n",
    "google_api_key=os.getenv('google_api_key')\n",
    "tavily_key=os.getenv('tavily_key')\n",
    "pse=os.getenv('pse')\n",
    "openai_api_key=os.getenv('openai_api_key')\n",
    "tavily_client = TavilyClient(api_key=tavily_key)\n",
    "composio_api_key=os.getenv('composio_api_key')\n",
    "# configure logfire\n",
    "# import logfire\n",
    "# logfire.configure(token=os.getenv('logfire_token'))\n",
    "# logfire.instrument_pydantic_ai()\n"
   ]
  },
  {
   "cell_type": "code",
   "execution_count": 4,
   "metadata": {},
   "outputs": [],
   "source": [
    "\n",
    "api_keys={\n",
    "    'google_api_key':google_api_key,\n",
    "    'tavily_key':tavily_key,\n",
    "    'pse':pse,\n",
    "    'openai_api_key':openai_api_key,\n",
    "    'composio_key':composio_api_key\n",
    "}\n"
   ]
  },
  {
   "cell_type": "code",
   "execution_count": 1,
   "metadata": {},
   "outputs": [],
   "source": [
    "from t_ai.t_agent import TAgent\n",
    "from t_ai.utils.helper_functions import MCP_server_helper\n",
    "from t_ai.PrebuiltTools.google_tools import search_images_tool"
   ]
  },
  {
   "cell_type": "code",
   "execution_count": 4,
   "metadata": {},
   "outputs": [],
   "source": [
    "from t_ai.utils.helper_functions import MCP_server_helper\n",
    "mcp_server_helper=MCP_server_helper()\n",
    "mcp_server_helper.add_mcp_server(type='http', mcp_server_url=os.getenv('gmail_mcp_server'), headers=None)\n",
    "servers=mcp_server_helper.get_mcp_servers()"
   ]
  },
  {
   "cell_type": "code",
   "execution_count": 5,
   "metadata": {},
   "outputs": [],
   "source": [
    "# tools=[search_images_tool(api_key=api_keys['google_api_key'],search_engine_id=api_keys['pse']),code_execution_tool(api_key=api_keys['google_api_key'])]"
   ]
  },
  {
   "cell_type": "code",
   "execution_count": 5,
   "metadata": {},
   "outputs": [],
   "source": [
    "llm=OpenAIModel('gpt-4.1-mini',provider=OpenAIProvider(api_key=api_keys['openai_api_key']))"
   ]
  },
  {
   "cell_type": "code",
   "execution_count": 6,
   "metadata": {},
   "outputs": [],
   "source": [
    "agent=TAgent(llm=llm, voice=False)"
   ]
  },
  {
   "cell_type": "code",
   "execution_count": 7,
   "metadata": {},
   "outputs": [
    {
     "name": "stdout",
     "output_type": "stream",
     "text": [
      "Initializing MCP server connection...\n",
      "Connecting to MCP server (this may take a moment on first run)...\n"
     ]
    },
    {
     "data": {
      "text/plain": [
       "AgentRunResult(output='Hi! I can assist you with a variety of tasks such as answering questions, providing information, helping with writing and editing, brainstorming ideas, offering explanations on many topics, doing calculations, setting reminders, and more. If there’s something specific you want help with, just let me know! How can I assist you today?')"
      ]
     },
     "execution_count": 7,
     "metadata": {},
     "output_type": "execute_result"
    }
   ],
   "source": [
    "result=await agent.chat(['what can you do'])\n",
    "result"
   ]
  },
  {
   "cell_type": "code",
   "execution_count": null,
   "metadata": {},
   "outputs": [],
   "source": [
    "\n",
    "llms={'pydantic_llm':GoogleModel('gemini-2.5-flash', provider=GoogleProvider(api_key=api_keys['google_api_key']))}"
   ]
  },
  {
   "cell_type": "code",
   "execution_count": null,
   "metadata": {},
   "outputs": [],
   "source": []
  }
 ],
 "metadata": {
  "kernelspec": {
   "display_name": ".venv",
   "language": "python",
   "name": "python3"
  },
  "language_info": {
   "codemirror_mode": {
    "name": "ipython",
    "version": 3
   },
   "file_extension": ".py",
   "mimetype": "text/x-python",
   "name": "python",
   "nbconvert_exporter": "python",
   "pygments_lexer": "ipython3",
   "version": "3.13.2"
  }
 },
 "nbformat": 4,
 "nbformat_minor": 2
}
