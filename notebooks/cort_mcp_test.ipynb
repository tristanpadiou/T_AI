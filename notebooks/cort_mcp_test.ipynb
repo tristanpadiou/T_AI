{
 "cells": [
  {
   "cell_type": "code",
   "execution_count": 1,
   "metadata": {},
   "outputs": [
    {
     "name": "stdout",
     "output_type": "stream",
     "text": [
      "TAgent with MCP server created successfully!\n",
      "MCP servers: 2\n"
     ]
    }
   ],
   "source": [
    "# Test the updated MCP handling with TAgent\n",
    "import sys\n",
    "import os\n",
    "from dotenv import load_dotenv\n",
    "load_dotenv()\n",
    "# sys.path.append('../src')\n",
    "\n",
    "\n",
    "\n",
    "from t_ai.t_agent import TAgent\n",
    "from pydantic_ai.mcp import MCPServerStreamableHTTP\n",
    "from pydantic_ai.models.openai import OpenAIModel\n",
    "from pydantic_ai.providers.openai import OpenAIProvider\n",
    "# Example usage of the updated MCP handling\n",
    "openai_model = OpenAIModel('gpt-4.1-mini', provider=OpenAIProvider(api_key=os.getenv('openai_api_key')))\n",
    "\n",
    "# Create MCP server instance (using the new approach)\n",
    "server1 = MCPServerStreamableHTTP(url=os.getenv('google_task_mcp_server'))  \n",
    "server2 = MCPServerStreamableHTTP(url=os.getenv('google_calendar_mcp_server'))\n",
    "\n",
    "# Create agent with MCP server as toolset\n",
    "agent = TAgent(\n",
    "    llm=openai_model,\n",
    "    mcp_servers=[server1,server2],  # Pass as list to TAgent\n",
    "    system_prompt=\"You are a helpful assistant with access to MCP tools.\"\n",
    ")\n",
    "\n",
    "print(\"TAgent with MCP server created successfully!\")\n",
    "print(\"MCP servers:\", len(agent.mcp_servers))\n"
   ]
  },
  {
   "cell_type": "code",
   "execution_count": 2,
   "metadata": {},
   "outputs": [],
   "source": [
    "# await server1.list_tools()"
   ]
  },
  {
   "cell_type": "code",
   "execution_count": 3,
   "metadata": {},
   "outputs": [],
   "source": [
    "# await server1.direct_call_tool('GOOGLETASKS_LIST_TASK_LISTS', {})"
   ]
  },
  {
   "cell_type": "code",
   "execution_count": 4,
   "metadata": {},
   "outputs": [
    {
     "name": "stdout",
     "output_type": "stream",
     "text": [
      "Async context manager example defined. Use 'await test_mcp_with_context_manager()' to run.\n"
     ]
    }
   ],
   "source": [
    "# Example of using the async context manager (recommended approach)\n",
    "async def test_mcp_with_context_manager():\n",
    "    \"\"\"\n",
    "    This demonstrates the recommended way to use MCP servers with context managers\n",
    "    to properly manage connections and resources.\n",
    "    \"\"\"\n",
    "    async with agent:  # This will connect to all MCP servers\n",
    "        result = await agent.chat(['How many days between 2000-01-01 and 2025-03-18?'])\n",
    "        print(\"Result:\", result.output if hasattr(result, 'output') else result)\n",
    "    # Connections are automatically closed when exiting the context\n",
    "\n",
    "# Note: This is an async function, so you would run it with:\n",
    "# await test_mcp_with_context_manager()\n",
    "print(\"Async context manager example defined. Use 'await test_mcp_with_context_manager()' to run.\")\n"
   ]
  },
  {
   "cell_type": "code",
   "execution_count": 5,
   "metadata": {},
   "outputs": [
    {
     "name": "stdout",
     "output_type": "stream",
     "text": [
      "Manual connection example defined. Use 'await test_mcp_manual_connection()' to run.\n"
     ]
    }
   ],
   "source": [
    "# Alternative: Manual connection management (less efficient)\n",
    "async def test_mcp_manual_connection(query:str):\n",
    "    \"\"\"\n",
    "    This shows manual connection management. The context manager approach above\n",
    "    is more efficient as it manages connections around the entire usage context.\n",
    "    \"\"\"\n",
    "    # Manual connection (connections will be managed automatically if not done explicitly)\n",
    "    result = await agent.chat([query])\n",
    "    print(\"Result:\", result.output if hasattr(result, 'output') else result)\n",
    "    \n",
    "    # Manual disconnection (optional, will be done automatically when needed)\n",
    "    # await agent.disconnect()\n",
    "\n",
    "print(\"Manual connection example defined. Use 'await test_mcp_manual_connection()' to run.\")\n"
   ]
  },
  {
   "cell_type": "code",
   "execution_count": 9,
   "metadata": {},
   "outputs": [
    {
     "name": "stdout",
     "output_type": "stream",
     "text": [
      "Result: Here are your tasks in the \"My Tasks\" list:\n",
      "\n",
      "1. Find information about the dust detection experiment. Due: Jan 28, 2024. Notes: Research and gather details regarding the dust detection experiment. Include objectives, methodology, results, and any relevant publications.\n",
      "2. Find information about the passive seismic experiment. Due: Dec 31, 2023. Notes: Research and gather data on passive seismic experiments, including their methodology, applications, and relevant case studies.\n",
      "3. Find information about the laser ranging retroreflector experiment. Due: Dec 31, 2023. Notes: Research the laser ranging retroreflector experiment, its purpose, and results.\n",
      "4. Find information about the solar wind composition experiment. Due: Oct 27, 2023. Notes: Create a task to find information about the solar wind composition experiment.\n",
      "5. Find information about the lunar soil mechanics experiment. Due: Dec 31, 2023. Notes: Research and gather data on the lunar soil mechanics experiment.\n",
      "6. List experiments conducted during the moon landing. Due: Dec 31, 2023. Notes: Create a comprehensive list of all scientific experiments performed during the Apollo moon landing missions. Include details about the objectives, procedures, and results of each experiment.\n",
      "\n",
      "If you want to view details or manage any task, just let me know!\n",
      "None\n"
     ]
    }
   ],
   "source": [
    "result=await test_mcp_manual_connection('list all my tasks')\n",
    "print(result)"
   ]
  },
  {
   "cell_type": "markdown",
   "metadata": {},
   "source": [
    "# Updated MCP Handling in Pydantic AI\n",
    "\n",
    "## Key Changes Made:\n",
    "\n",
    "1. **Import Changes**: Added proper MCP imports to `t_agent.py`:\n",
    "   ```python\n",
    "   from pydantic_ai.mcp import MCPServerStreamableHTTP, MCPServerSSE, MCPServerStdio\n",
    "   ```\n",
    "\n",
    "2. **Agent Creation**: MCP servers are now passed as `toolsets` parameter:\n",
    "   ```python\n",
    "   server = MCPServerStreamableHTTP('http://localhost:8000/mcp')  \n",
    "   agent = Agent('openai:gpt-4o', toolsets=[server])\n",
    "   ```\n",
    "\n",
    "3. **Context Manager Support**: Each MCP server instance is a toolset and can be used with async context managers:\n",
    "   ```python\n",
    "   async with agent:  \n",
    "       result = await agent.run('How many days between 2000-01-01 and 2025-03-18?')\n",
    "   ```\n",
    "\n",
    "4. **Connection Management**: Updated the TAgent class to properly handle multiple MCP server connections and disconnections.\n",
    "\n",
    "## Benefits:\n",
    "- More efficient connection management\n",
    "- Proper resource cleanup\n",
    "- Support for multiple MCP servers\n",
    "- Automatic connection handling when using context managers\n"
   ]
  }
 ],
 "metadata": {
  "kernelspec": {
   "display_name": ".venv",
   "language": "python",
   "name": "python3"
  },
  "language_info": {
   "codemirror_mode": {
    "name": "ipython",
    "version": 3
   },
   "file_extension": ".py",
   "mimetype": "text/x-python",
   "name": "python",
   "nbconvert_exporter": "python",
   "pygments_lexer": "ipython3",
   "version": "3.13.2"
  }
 },
 "nbformat": 4,
 "nbformat_minor": 2
}
